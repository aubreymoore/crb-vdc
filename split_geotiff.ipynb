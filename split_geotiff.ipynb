{
 "cells": [
  {
   "cell_type": "markdown",
   "id": "3e73162d-1094-4477-ada0-b9807c289026",
   "metadata": {},
   "source": [
    "# split_geotiff\n",
    "\n",
    "2023-05-16 Aubrey Moore [aubreymoore2013.gmail.com](mailto:aubreymoore2013.gmail.com)\n",
    "\n",
    "This workbook uses GDAL to split a large geoTIFF into tiles which are smaller geoTIFF files of a specified size.\n",
    "In addition, a **virtual raster file** (** *.vrt**) is built. This **vrt** file is simply provides an index of the tiles.\n",
    "It can be opened by QGIS and it greatly speeds up visualization.\n",
    "\n",
    "The **vrt** file can also be used to merge all of the geoTIFF tiles back into a single file:\n",
    "```\n",
    "gdal.Translate('vdc2.tif', 'vdc.vrt')\n",
    "```\n",
    "## References\n",
    "\n",
    "[Splitting raster data into equal pieces with GDAL in Python](https://www.youtube.com/embed/H5uQ85VXttg)\n",
    "\n",
    "[Merge raster data with GDAL in Python](https://www.youtube.com/embed/sBBMKbAj8XE)\n",
    "\n"
   ]
  },
  {
   "cell_type": "code",
   "execution_count": 1,
   "id": "490bf291-57d7-4871-b8ac-1ebb95d4c0e7",
   "metadata": {},
   "outputs": [],
   "source": [
    "from osgeo import gdal\n",
    "import os"
   ]
  },
  {
   "cell_type": "code",
   "execution_count": 2,
   "id": "d98fede5-507a-40d3-91ff-995296c131eb",
   "metadata": {},
   "outputs": [],
   "source": [
    "GEOTIFF = 'vdc.tif'\n",
    "TILE_DIR = 'tiles'\n",
    "TILE_WIDTH = 1000 # pixels\n",
    "TILE_HEIGHT = 1000 # pixels"
   ]
  },
  {
   "cell_type": "code",
   "execution_count": 3,
   "id": "4ad57371-79ba-4ca5-9c6e-0a1709dc6f2f",
   "metadata": {},
   "outputs": [],
   "source": [
    " os.makedirs(TILE_DIR, exist_ok = True)"
   ]
  },
  {
   "cell_type": "code",
   "execution_count": 4,
   "id": "44481a34-0234-4e54-9820-128e7de5df51",
   "metadata": {},
   "outputs": [
    {
     "name": "stdout",
     "output_type": "stream",
     "text": [
      "FINISHED\n"
     ]
    }
   ],
   "source": [
    "ds = gdal.Open(GEOTIFF)\n",
    "tile_list = []\n",
    "for ulx in range(0, ds.RasterXSize, 1000):  \n",
    "    for uly in range(0, ds.RasterYSize, 1000):\n",
    "        fn = f'{TILE_DIR}/tile_{ulx // TILE_WIDTH}_{uly // TILE_HEIGHT}.tif'\n",
    "        tile_list.append(fn)\n",
    "        # print(fn)\n",
    "        gdal.Translate(fn, ds, srcWin = (ulx, uly, TILE_WIDTH, TILE_HEIGHT))\n",
    "ds = None\n",
    "\n",
    "fn = GEOTIFF.replace('.tif', '.vrt')\n",
    "my_vrt = gdal.BuildVRT(fn, tile_list)\n",
    "my_vrt = None\n",
    "\n",
    "print('FINISHED')"
   ]
  }
 ],
 "metadata": {
  "kernelspec": {
   "display_name": "Python 3 (ipykernel)",
   "language": "python",
   "name": "python3"
  },
  "language_info": {
   "codemirror_mode": {
    "name": "ipython",
    "version": 3
   },
   "file_extension": ".py",
   "mimetype": "text/x-python",
   "name": "python",
   "nbconvert_exporter": "python",
   "pygments_lexer": "ipython3",
   "version": "3.9.5"
  }
 },
 "nbformat": 4,
 "nbformat_minor": 5
}
